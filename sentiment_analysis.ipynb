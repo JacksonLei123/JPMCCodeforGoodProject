{
  "nbformat": 4,
  "nbformat_minor": 0,
  "metadata": {
    "colab": {
      "name": ".ipynb",
      "provenance": []
    },
    "kernelspec": {
      "name": "python3",
      "display_name": "Python 3"
    }
  },
  "cells": [
    {
      "cell_type": "code",
      "metadata": {
        "id": "z4goO4dFjEDY",
        "outputId": "b5c0a94b-866f-464c-848d-e22fe6c636e0",
        "colab": {
          "base_uri": "https://localhost:8080/",
          "height": 119
        }
      },
      "source": [
        "!pip install requests\n",
        "!pip install beautifulsoup4"
      ],
      "execution_count": null,
      "outputs": [
        {
          "output_type": "stream",
          "text": [
            "Requirement already satisfied: requests in /usr/local/lib/python3.6/dist-packages (2.23.0)\n",
            "Requirement already satisfied: certifi>=2017.4.17 in /usr/local/lib/python3.6/dist-packages (from requests) (2020.6.20)\n",
            "Requirement already satisfied: idna<3,>=2.5 in /usr/local/lib/python3.6/dist-packages (from requests) (2.10)\n",
            "Requirement already satisfied: urllib3!=1.25.0,!=1.25.1,<1.26,>=1.21.1 in /usr/local/lib/python3.6/dist-packages (from requests) (1.24.3)\n",
            "Requirement already satisfied: chardet<4,>=3.0.2 in /usr/local/lib/python3.6/dist-packages (from requests) (3.0.4)\n",
            "Requirement already satisfied: beautifulsoup4 in /usr/local/lib/python3.6/dist-packages (4.6.3)\n"
          ],
          "name": "stdout"
        }
      ]
    },
    {
      "cell_type": "code",
      "metadata": {
        "id": "bCMKgnPJhGsK",
        "outputId": "f3d6ca64-dc2e-48cd-e211-b7c3ea31ff34",
        "colab": {
          "base_uri": "https://localhost:8080/",
          "height": 1000
        }
      },
      "source": [
        "\n",
        "import numpy as np\n",
        "import pandas as pd\n",
        "import requests\n",
        "import bs4\n",
        "import lxml.etree as xml\n",
        "\n",
        "URL = \"https://www.niche.com/colleges/paul-quinn-college/reviews/\"\n",
        "requests.get(URL, {}).text\n",
        "\n",
        "web_page = bs4.BeautifulSoup(requests.get(URL, {}).text, \"lxml\")\n",
        "web_page"
      ],
      "execution_count": null,
      "outputs": [
        {
          "output_type": "execute_result",
          "data": {
            "text/plain": [
              "<!DOCTYPE html>\n",
              "<html lang=\"en\">\n",
              "<head>\n",
              "<meta charset=\"utf-8\"/>\n",
              "<meta content=\"width=device-width, initial-scale=1\" name=\"viewport\"/>\n",
              "<title>Access to this page has been denied.</title>\n",
              "<link href=\"https://fonts.googleapis.com/css?family=Open+Sans:300\" rel=\"stylesheet\"/>\n",
              "<style>\n",
              "        html, body {\n",
              "            margin: 0;\n",
              "            padding: 0;\n",
              "            font-family: 'Open Sans', sans-serif;\n",
              "            color: #000;\n",
              "        }\n",
              "\n",
              "        a {\n",
              "            color: #c5c5c5;\n",
              "            text-decoration: none;\n",
              "        }\n",
              "\n",
              "        .container {\n",
              "            align-items: center;\n",
              "            display: flex;\n",
              "            flex: 1;\n",
              "            justify-content: space-between;\n",
              "            flex-direction: column;\n",
              "            height: 100%;\n",
              "        }\n",
              "\n",
              "        .container > div {\n",
              "            width: 100%;\n",
              "            display: flex;\n",
              "            justify-content: center;\n",
              "        }\n",
              "\n",
              "        .container > div > div {\n",
              "            display: flex;\n",
              "            width: 80%;\n",
              "        }\n",
              "\n",
              "        .customer-logo-wrapper {\n",
              "            padding-top: 2rem;\n",
              "            flex-grow: 0;\n",
              "            background-color: #fff;\n",
              "            visibility: visible;\n",
              "        }\n",
              "\n",
              "        .customer-logo {\n",
              "            border-bottom: 1px solid #000;\n",
              "        }\n",
              "\n",
              "        .customer-logo > img {\n",
              "            padding-bottom: 1rem;\n",
              "            max-height: 50px;\n",
              "            max-width: 100%;\n",
              "        }\n",
              "\n",
              "        .page-title-wrapper {\n",
              "            flex-grow: 2;\n",
              "        }\n",
              "\n",
              "        .page-title {\n",
              "            flex-direction: column-reverse;\n",
              "        }\n",
              "\n",
              "        .content-wrapper {\n",
              "            flex-grow: 5;\n",
              "        }\n",
              "\n",
              "        .content {\n",
              "            flex-direction: column;\n",
              "        }\n",
              "\n",
              "        .page-footer-wrapper {\n",
              "            align-items: center;\n",
              "            flex-grow: 0.2;\n",
              "            background-color: #000;\n",
              "            color: #c5c5c5;\n",
              "            font-size: 70%;\n",
              "        }\n",
              "\n",
              "        @media (min-width: 768px) {\n",
              "            html, body {\n",
              "                height: 100%;\n",
              "            }\n",
              "        }\n",
              "    </style>\n",
              "<!-- Custom CSS -->\n",
              "<link href=\"https://d33a4decm84gsn.cloudfront.net/static/partners/perimeterx/perimeterx.css\" rel=\"stylesheet\" type=\"text/css\"/>\n",
              "</head>\n",
              "<body>\n",
              "<section class=\"container\">\n",
              "<div class=\"customer-logo-wrapper\">\n",
              "<div class=\"customer-logo\">\n",
              "<img alt=\"Logo\" src=\"https://www.niche.com/about/wp-content/themes/niche-about/images/about-home/stacked-green.svg\"/>\n",
              "</div>\n",
              "</div>\n",
              "<div class=\"page-title-wrapper\">\n",
              "<div class=\"page-title\">\n",
              "<h1>Please verify you are a human</h1>\n",
              "</div>\n",
              "</div>\n",
              "<div class=\"content-wrapper\">\n",
              "<div class=\"content\">\n",
              "<div id=\"px-captcha\">\n",
              "</div>\n",
              "<p>\n",
              "                Access to this page has been denied because we believe you are using automation tools to browse the\n",
              "                website.\n",
              "            </p>\n",
              "<p>\n",
              "                This may happen as a result of the following:\n",
              "            </p>\n",
              "<ul>\n",
              "<li>\n",
              "                    Javascript is disabled or blocked by an extension (ad blockers for example)\n",
              "                </li>\n",
              "<li>\n",
              "                    Your browser does not support cookies\n",
              "                </li>\n",
              "</ul>\n",
              "<p>\n",
              "                Please make sure that Javascript and cookies are enabled on your browser and that you are not blocking\n",
              "                them from loading.\n",
              "            </p>\n",
              "<p>\n",
              "                Reference ID: #ae90ebf0-ff93-11ea-bc68-89b1d49f978e\n",
              "            </p>\n",
              "</div>\n",
              "</div>\n",
              "<div class=\"page-footer-wrapper\">\n",
              "<div class=\"page-footer\">\n",
              "<p>\n",
              "                Powered by\n",
              "                <a href=\"https://www.perimeterx.com/whywasiblocked\">PerimeterX</a>\n",
              "                , Inc.\n",
              "            </p>\n",
              "</div>\n",
              "</div>\n",
              "</section>\n",
              "<!-- Px -->\n",
              "<script>\n",
              "    window._pxAppId = 'PXZ5wgH7n9';\n",
              "    window._pxJsClientSrc = '/Z5wgH7n9/init.js';\n",
              "    window._pxFirstPartyEnabled = true;\n",
              "    window._pxVid = '';\n",
              "    window._pxUuid = 'ae90ebf0-ff93-11ea-bc68-89b1d49f978e';\n",
              "    window._pxHostUrl = '/Z5wgH7n9/xhr';\n",
              "</script>\n",
              "<script>\n",
              "    var s = document.createElement('script');\n",
              "    s.src = '/Z5wgH7n9/captcha/captcha.js?a=c&u=ae90ebf0-ff93-11ea-bc68-89b1d49f978e&v=&m=0';\n",
              "    var p = document.getElementsByTagName('head')[0];\n",
              "    p.insertBefore(s, null);\n",
              "    if (true) {\n",
              "        s.onerror = function () {\n",
              "            s = document.createElement('script');\n",
              "            var suffixIndex = '/Z5wgH7n9/captcha/captcha.js?a=c&u=ae90ebf0-ff93-11ea-bc68-89b1d49f978e&v=&m=0'.indexOf('captcha.js');\n",
              "            var temperedBlockScript = '/Z5wgH7n9/captcha/captcha.js?a=c&u=ae90ebf0-ff93-11ea-bc68-89b1d49f978e&v=&m=0'.substring(suffixIndex);\n",
              "            s.src = '//captcha.px-cdn.net/PXZ5wgH7n9/' + temperedBlockScript;\n",
              "            p.parentNode.insertBefore(s, p);\n",
              "        };\n",
              "    }\n",
              "</script>\n",
              "<!-- Custom Script -->\n",
              "</body>\n",
              "</html>"
            ]
          },
          "metadata": {
            "tags": []
          },
          "execution_count": 2
        }
      ]
    },
    {
      "cell_type": "code",
      "metadata": {
        "id": "Cawb1VNEudF5",
        "outputId": "91879b9e-e6b8-4962-963a-d5e05acb1526",
        "colab": {
          "base_uri": "https://localhost:8080/",
          "height": 34
        }
      },
      "source": [
        "from google.colab import drive\n",
        "drive.mount('/content/drive')\n"
      ],
      "execution_count": 2,
      "outputs": [
        {
          "output_type": "stream",
          "text": [
            "Drive already mounted at /content/drive; to attempt to forcibly remount, call drive.mount(\"/content/drive\", force_remount=True).\n"
          ],
          "name": "stdout"
        }
      ]
    },
    {
      "cell_type": "code",
      "metadata": {
        "id": "yeyCuZx9B_06"
      },
      "source": [
        "import pandas as pd\n",
        "path = \"/content/drive/My Drive/data.csv\"\n",
        "df = pd.read_csv(path)\n",
        "comments_list = df.values.tolist()\n"
      ],
      "execution_count": 3,
      "outputs": []
    },
    {
      "cell_type": "code",
      "metadata": {
        "id": "KxfHs2DUEOWs",
        "outputId": "b17453d0-a145-451b-b2fa-8279a6487a5d",
        "colab": {
          "base_uri": "https://localhost:8080/",
          "height": 51
        }
      },
      "source": [
        "import nltk\n",
        "from nltk.corpus import stopwords\n",
        "nltk.download('stopwords')\n",
        "stop_words = set(stopwords.words('english')) \n",
        "stop_words.add(\"I\")"
      ],
      "execution_count": 4,
      "outputs": [
        {
          "output_type": "stream",
          "text": [
            "[nltk_data] Downloading package stopwords to /root/nltk_data...\n",
            "[nltk_data]   Package stopwords is already up-to-date!\n"
          ],
          "name": "stdout"
        }
      ]
    },
    {
      "cell_type": "code",
      "metadata": {
        "id": "DsoOQuN0FOWf",
        "outputId": "6ff86e57-804e-458d-8f0d-a824202a9365",
        "colab": {
          "base_uri": "https://localhost:8080/",
          "height": 54
        }
      },
      "source": [
        "def findFrequentWords(ls):\n",
        "    words = []\n",
        "    filtered = {}\n",
        "    for txt in ls:\n",
        "      for stringSet in txt:\n",
        "        temp = stringSet.split()\n",
        "        for word in temp:\n",
        "            word = word.lower()\n",
        "            if (word not in stop_words):\n",
        "                words.append(word)\n",
        "    for uniqueWord in words:\n",
        "        val = words.count(uniqueWord)\n",
        "        filtered[uniqueWord] = val\n",
        "    \n",
        "    return filtered\n",
        "\n",
        "def relativeFrequency(d):\n",
        "    myDict = {}\n",
        "    s = sum(d.values())\n",
        "    for key in d.keys():\n",
        "        relFreq = 1700 * d[key]/s\n",
        "        myDict[key] = int(relFreq)\n",
        "    return myDict\n",
        "\n",
        "x = findFrequentWords(comments_list)\n",
        "frequencies = relativeFrequency(x)\n",
        "del frequencies['paul'] \n",
        "del frequencies['quinn'] \n",
        "del frequencies['school'] \n",
        "del frequencies['college']\n",
        "del frequencies['get']\n",
        "del frequencies['students']\n",
        "del frequencies['great']\n",
        "del frequencies['like']\n",
        "del frequencies['many']\n",
        "del frequencies['good']\n",
        "del frequencies['also']\n",
        "del frequencies['would']\n",
        "del frequencies['thing']\n",
        "del frequencies['lot']\n",
        "del frequencies['really']\n",
        "del frequencies['campus.']\n",
        "del frequencies['feel']\n",
        "del frequencies['much']\n",
        "del frequencies['school.']\n",
        "del frequencies['always']\n",
        "del frequencies['well']\n",
        "\n",
        "frequencies = relativeFrequency(frequencies)\n",
        "\n",
        "\n",
        "freq_list = sorted(frequencies.items(), key=lambda x: x[1], reverse=True)\n",
        "\n",
        "final_list = []\n",
        "for key in freq_list:\n",
        "  word,val = key\n",
        "  mini = [word, val]\n",
        "  final_list.append(mini)\n",
        "print(final_list)"
      ],
      "execution_count": 21,
      "outputs": [
        {
          "output_type": "stream",
          "text": [
            "[['campus', 51], ['experience', 42], ['love', 35], ['work', 33], ['one', 30], ['everyone', 28], ['small', 25], ['program', 21], ['help', 21], ['life', 21], ['people', 18], ['better', 18], ['time', 16], ['best', 16], ['real', 16], ['student', 16], ['think', 16], ['make', 11], ['staff', 11], ['college.', 11], ['attend', 11], ['greek', 11], ['opportunities', 9], ['quinnite', 9], ['part', 9], ['soccer', 9], ['business', 9], ['us', 9], ['friendly', 9], ['students.', 9], ['want', 9], ['first', 9], ['teachers', 9], ['professors', 9], ['comes', 9], ['easy', 9], ['could', 9], ['different', 9], ['made', 9], ['life.', 9], ['family', 9], ['dress', 9], ['institution.', 7], ['looking', 7], ['place', 7], ['change', 7], ['needs', 7], ['got', 7], ['care', 7], [\"i'm\", 7], ['i’ve', 7], ['around', 7], ['here.', 7], ['makes', 7], ['world', 7], ['allows', 7], ['helps', 7], ['helpful', 7], ['nothing', 7], ['nice', 7], ['community', 7], ['class', 7], ['something', 7], ['everything', 7], ['even', 7], ['good.', 7], ['living', 7], ['live', 7], ['perfect', 7], ['great.', 7], ['decision', 7], ['ever', 7], ['president', 7], ['me.', 7], ['hard', 7], ['home', 7], ['code', 7], ['safety', 7], ['security', 7], ['strict', 7], ['places', 4], ['high', 4], ['thought', 4], ['truly', 4], ['ethos', 4], ['it.', 4], ['things', 4], ['graduate.', 4], ['learned', 4], ['everybody', 4], ['try', 4], ['enjoy', 4], ['become', 4], ['prepares', 4], ['semester', 4], ['freshman', 4], ['knows', 4], ['other.', 4], ['wonderful', 4], ['play', 4], ['far', 4], ['need', 4], ['food', 4], ['year', 4], ['apart', 4], ['nation', 4], ['go', 4], ['sure', 4], ['!', 4], ['unique', 4], ['multicultural', 4], ['along', 4], ['financial', 4], ['aid', 4], ['times', 4], ['teaches', 4], ['know', 4], ['take', 4], ['seems', 4], ['teacher', 4], ['greeks', 4], ['available', 2], ['success.', 2], ['hold', 2], ['hand', 2], ['community.', 2], ['social', 2], ['special', 2], ['opportunities,', 2], ['may', 2], ['nation.', 2], ['urban', 2], ['model', 2], ['education', 2], ['come', 2], ['campus,', 2], ['see', 2], ['receive', 2], ['grow', 2], ['at.', 2], ['hbcu.', 2], ['diversity', 2], ['enjoyed', 2], ['far,', 2], ['couple', 2], ['years', 2], ['offers', 2], ['gives', 2], ['provides', 2], ['prepare', 2], ['amount', 2], ['next', 2], ['interact', 2], ['another', 2], ['move', 2], ['problems', 2], [',', 2], ['someone', 2], ['matters.', 2], ['people.', 2], ['involved', 2], [\"i've\", 2], ['speak', 2], ['up.', 2], ['besides', 2], ['that,', 2], ['peers.', 2], ['environment', 2], ['understanding', 2], ['it’s', 2], ['experiences', 2], ['met', 2], ['build', 2], ['bond', 2], ['colleges', 2], ['world.', 2], ['amazing.', 2], ['felt', 2], ['welcomed', 2], ['home.', 2], ['wants', 2], ['tuition', 2], ['field', 2], ['studying', 2], ['us.', 2], ['dorms', 2], ['hot', 2], ['super', 2], ['academics', 2], ['better.', 2], ['defiantly', 2], ['recommend', 2], ['yourself.', 2], ['pqc', 2], ['graduate', 2], ['studies.', 2], ['academic', 2], ['second', 2], ['college,', 2], ['means', 2], ['personal', 2], ['able', 2], ['learning', 2], ['whole', 2], ['environment.', 2], ['never', 2], ['reason', 2], ['transition', 2], ['team.', 2], ['going', 2], ['also,', 2], ['pay', 2], ['tuition.', 2], ['welcoming', 2], ['atmosphere', 2], ['knew', 2], ['view', 2], ['showed', 2], ['keep', 2], ['hours', 2], ['lessons', 2], ['given', 2], ['opportunities.', 2], ['city', 2], ['connect', 2], ['certain', 2], ['basketball', 2], ['trying', 2], ['highly', 2], ['work.', 2], ['week', 2], ['spoke', 2], ['major', 2], ['day', 2], [\"there's\", 2], ['chance', 2], ['actually', 2], ['meet', 2], ['look', 2], ['chose', 2], ['dont', 2], ['bad', 2], ['coming', 2], ['pqc.', 2], ['supportive', 2], ['attending', 2], ['anywhere', 2], ['else.', 2], ['fact', 2], ['number.', 2], ['another.', 2], ['forward', 2], ['learn', 2], ['little', 2], ['walk', 2], ['you.', 2], ['oriented', 2], ['fun', 2], ['event', 2], ['helping', 2], ['making', 2], ['classroom', 2], ['slogan', 2], ['worry', 2], ['school,', 2], ['together.', 2], ['person', 2], ['career', 2], ['team', 2], ['working', 2], ['internships,', 2], ['professors.', 2], ['easier', 2], ['definitely', 2], ['choose', 2], ['choice', 2], ['gotten', 2], ['improve', 2], ['present', 2], ['sorority', 2], ['institution', 2], ['access', 2], ['though', 2], ['looks', 2], ['staff,', 2], ['every', 2], ['activities', 2], ['administration', 2], ['encourage', 2], ['support', 2], ['dallas,', 2], ['hbcu', 2], ['experience,', 2], [\"can't\", 2], ['wait', 2], ['free', 2], ['monitor', 2], ['leave', 2], ['bro', 2], ['girls', 2], ['quite', 2], ['job', 2], ['major.', 2], ['safe', 2], ['process', 2], ['overall', 2], ['successful', 2], ['policy.', 2], ['drug', 2], ['friends', 2], ['anything.', 2], ['ways.', 2], ['faculty', 2], ['found', 2], ['respectful', 2], ['farm', 2], ['chefs', 2], ['restaurants', 2], ['new', 2], ['instructors', 2], ['cafe', 2], ['vegetables', 2], ['car', 2], ['parking', 2], ['outstanding', 2], ['teams', 2], ['classes', 2], ['okay', 2], ['provided', 2], ['–', 2], ['phone', 2], ['visit', 2], ['all.', 2], ['4', 2], ['lead', 2], ['resources', 2], ['future.', 2], ['went', 2], ['money', 2], ['african', 2], ['americans', 2], ['schools', 2], ['ratio.', 2], ['room', 2], ['takes', 2], ['teach', 2], ['start', 2], ['times.', 2], ['mean', 2], ['private', 2], ['improvement', 2], ['myself.', 2], ['incoming', 2], ['fall', 2], ['2014', 2], ['seem', 2], ['pretty', 2], ['multitude', 0], ['seek', 0], ['lay', 0], ['foundation', 0], ['prosperous', 0], ['advantageous', 0], ['huge', 0], ['networking', 0], ['ties', 0], ['fortune', 0], ['500', 0], ['companies,', 0], ['path', 0], ['entrepreneurship,', 0], ['professionalism.', 0], ['caters', 0], ['deserve', 0], ['quality', 0], ['undiscovered', 0], ['larger', 0], ['beauty', 0], ['progressive', 0], ['cities', 0], ['america', 0], ['(dallas,', 0], ['tx)', 0], ['key', 0], ['collegiate', 0], ['partake', 0], ['exemplary', 0], ['action', 0], ['leading', 0], ['higher', 0], ['workforce', 0], ['recipients.', 0], ['inside', 0], ['gates', 0], ['appreciate.', 0], ['beautiful', 0], ['rolling', 0], ['hills', 0], ['pristine', 0], ['institutional', 0], ['me,', 0], ['unmatched.', 0], ['advocate', 0], ['companies', 0], ['maturity', 0], ['plus,', 0], ['this!?!', 0], ['concept.', 0], ['appearance', 0], ['buildings.', 0], ['construction', 0], ['underway!!!', 0], ['energy', 0], ['excited', 0], ['upcoming', 0], ['season', 0], ['especially', 0], ['haven’t', 0], ['past', 0], ['believe', 0], ['year.', 0], ['opportunity', 0], ['also,the', 0], ['circumstances.', 0], ['communication', 0], ['skills', 0], ['level.', 0], ['represents', 0], ['forward.', 0], ['reassure', 0], ['missing.', 0], ['leader.', 0], ['taught', 0], ['values', 0], ['anxiety', 0], ['confident', 0], ['talking', 0], ['activities.', 0], ['ability', 0], ['preparing', 0], ['compete', 0], ['future', 0], ['assignments', 0], ['done.', 0], ['had.', 0], ['close', 0], ['with.', 0], ['sets', 0], ['feels', 0], ['we/me,', 0], ['supersedes', 0], ['individual.', 0], ['reasonable', 0], ['works', 0], ['for.', 0], ['food,', 0], ['big', 0], ['cold.', 0], ['helpful.', 0], ['short', 0], ['motivated', 0], ['created', 0], ['motivate', 0], ['version', 0], ['place.', 0], ['graduated', 0], ['prepared', 0], ['ivy', 0], ['league', 0], ['(university', 0], ['pennsylvania)', 0], ['rigor.', 0], ['far.', 0], ['incredible', 0], ['much.', 0], ['bareable', 0], ['playing', 0], ['perhaps', 0], ['biggest', 0], ['easily', 0], ['abut', 0], ['place,', 0], ['came', 0], ['sport.', 0], ['five', 0], ['gradually', 0], ['improving.', 0], ['striving', 0], ['best.', 0], ['beneficial', 0], ['great,', 0], ['liked', 0], ['thrive', 0], ['school.great', 0], ['downtown', 0], ['dallas', 0], ['mall', 0], ['near', 0], ['gave', 0], ['schedule', 0], ['due', 0], ['travailing', 0], ['grades', 0], ['time.', 0], ['appertains', 0], ['moment', 0], ['shown', 0], ['too.', 0], ['expand', 0], ['campuses.', 0], ['bit', 0], ['because,', 0], ['state', 0], ['personalities.', 0], ['café', 0], ['days', 0], ['forced', 0], ['eat', 0], ['hungry.', 0], ['person,', 0], ['quinn,', 0], ['improving', 0], ['staff.', 0], ['respected', 0], ['amazing.i', 0], ['administrators', 0], ['diverse', 0], ['opening', 0], ['more.', 0], ['honestly,', 0], ['heard', 0], ['visited', 0], ['senior', 0], ['president,', 0], ['michael', 0], ['sorrell,', 0], ['body', 0], ['asked', 0], ['told', 0], ['majors', 0], ['offer.', 0], ['forward,', 0], ['belonged', 0], ['intellectual', 0], ['father', 0], ['figure.', 0], ['updating', 0], ['dormitory,', 0], ['change.', 0], ['dr.', 0], ['sorrel', 0], ['conviction', 0], ['faith', 0], ['feeling', 0], ['exposes', 0], ['facets', 0], ['imagine', 0], ['acceptable.', 0], ['desert', 0], ['commute', 0], ['places.', 0], ['alright.............................................................................................................', 0], ['connections', 0], ['soo', 0], ['individuals.', 0], ['treat', 0], ['extremely', 0], ['graduation.', 0], ['proud', 0], ['graduating', 0], ['years!', 0], ['recommend;', 0], ['anyone', 0], ['education.', 0], ['type', 0], ['bike', 0], ['rental', 0], ['at,', 0], ['based', 0], ['nurturing.', 0], ['excellent', 0], ['freshmen.', 0], ['serves', 0], ['resource', 0], ['beginning', 0], ['journey', 0], ['end.', 0], ['participate', 0], ['in,', 0], ['affordable', 0], ['strong', 0], ['academics,', 0], ['understand', 0], ['materials.', 0], ['we/(over)me', 0], ['states', 0], ['grew', 0], ['shell', 0], ['slowly', 0], ['surely', 0], ['growing', 0], ['variety', 0], ['courses', 0], ['offered', 0], ['sizes', 0], ['10-20', 0], ['classroom.', 0], ['prospects', 0], ['high.', 0], ['jobs', 0], ['internships', 0], ['thrown', 0], ['excel.', 0], ['alumni', 0], ['favorite', 0], ['numerous', 0], ['give', 0], ['example:', 0], ['paid', 0], ['abroad,', 0], ['etc.', 0], ['relationships', 0], ['undivided', 0], ['attention.', 0], ['door', 0], ['opened', 0], ['partnerships', 0], ['loop', 0], ['organization,', 0], ['constantly', 0], ['fits', 0], [\"people's\", 0], ['needs.', 0], ['divine', 0], ['9', 0], ['fraternity.', 0], ['resources.', 0], ['relationship', 0], ['received', 0], ['away', 0], ['voice.', 0], ['professors,', 0], ['date', 0], ['participation.', 0], ['tx.', 0], ['anything,', 0], ['crime.', 0], ['part.', 0], ['smoke', 0], ['drink', 0], ['camp[us.', 0], ['visits', 0], ['enter', 0], ['know!!!!', 0], ['beautiful.', 0], ['entire', 0], ['tons', 0], ['fun.', 0], ['didnt', 0], ['applied', 0], ['fasfa.', 0], ['minor', 0], ['application', 0], ['hiccups', 0], ['serious', 0], ['safety.', 0], ['policies', 0], ['safe.', 0], ['monitoring', 0], ['observing', 0], ['active', 0], ['themes', 0], ['either', 0], ['homework,', 0], ['exams', 0], ['funds', 0], ['covered.', 0], ['apply', 0], ['finical', 0], ['aid.', 0], ['strictness', 0], ['strict.', 0], ['quick', 0], ['paper', 0], ['done', 0], ['patrol.', 0], ['accepts', 0], ['advantage', 0], ['number', 0], ['officials', 0], ['concerns.', 0], ['expects', 0], ['casual', 0], ['meant', 0], ['professional', 0], ['careers.', 0], ['instituted', 0], ['anew', 0], ['risk', 0], ['ensure', 0], ['drugs', 0], ['planning', 0], ['testing', 0], ['athletes.', 0], ['texas,', 0], ['sunshine', 0], ['state!', 0], ['create', 0], ['stronger', 0], ['bonding', 0], ['chains', 0], ['collegues.', 0], ['athletics', 0], ['questions', 0], ['concerns', 0], ['have.', 0], ['welcome.', 0], ['freedom.', 0], ['find', 0], ['town', 0], ['homes', 0], ['apartments', 0], ['prices.', 0], ['ten', 0], ['$200', 0], ['fine.', 0], ['outgoing', 0], ['monitors', 0], ['actitivies.', 0], ['discretion', 0], ['advised.', 0], ['stands', 0], ['established', 0], ['2010', 0], ['operates', 0], ['student-workers', 0], ['entrepreneurship.', 0], ['sell', 0], ['dallas’', 0], ['premier', 0], [\"farmer's\", 0], ['markets.', 0], ['matter', 0], ['fact,', 0], ['site', 0], ['cooks', 0], ['feature', 0], [\"city's\", 0], ['finest', 0], ['april', 0], ['11,', 0], ['2013.', 0], ['yeahhhh!!!!', 0], ['offer', 0], ['internship', 0], ['enough', 0], ['themselves.', 0], ['brand', 0], ['computers', 0], ['semester.', 0], ['pay,but', 0], ['cioncerned', 0], ['goals.', 0], ['various', 0], ['programs,', 0], ['study,men', 0], ['&', 0], ['women', 0], ['teams,', 0], ['health', 0], ['wellness', 0], ['gym.', 0], ['sorrell', 0], ['stay', 0], ['track', 0], ['clean,', 0], ['serve', 0], [\"quinn's\", 0], ['campus.so', 0], ['lunch', 0], ['dinner', 0], ['assortment', 0], ['sides', 0], ['salads.', 0], ['finding', 0], ['space.', 0], ['registration', 0], ['fill', 0], ['form', 0], ['decal', 0], ['park', 0], ['fee', 0], ['$50.00.', 0], ['securities', 0], ['24/7.i', 0], ['comfortable', 0], ['waiking', 0], ['day.', 0], ['policy', 0], ['register', 0], ['early', 0], ['controlled', 0], ['zero', 0], ['tolerate', 0], ['impressive', 0], ['grads', 0], ['know.', 0], ['pass', 0], ['office,', 0], ['phone,', 0], ['email,', 0], ['cell', 0], ['numbers.', 0], ['success', 0], ['anytime', 0], ['available.', 0], ['review', 0], ['elders', 0], ['ag', 0], ['al', 0], ['kind.', 0], ['i’m', 0], ['staying', 0], ['3', 0], ['years.', 0], ['barely', 0], ['organized.', 0], ['gets', 0], ['new.', 0], ['average', 0], ['nation,', 0], ['true', 0], ['hearts.', 0], ['embody', 0], [\"l's\", 0], ['them,', 0], ['wherever', 0], ['are,', 0], ['matters;', 0], ['greater', 0], ['self.', 0], ['(pqc)', 0], ['challenging', 0], ['freshman,', 0], ['use', 0], ['while.they', 0], ['needed', 0], ['order', 0], ['welcomes', 0], ['considers', 0], ['individuals', 0], ['less', 0], ['privileged.', 0], ['be.', 0], ['sat', 0], ['listened', 0], ['looked', 0], ['match.', 0], ['clean', 0], ['issues', 0], ['possible', 0], ['admire.', 0], ['touring', 0], ['noticed', 0], ['population', 0], ['mostly', 0], ['lack', 0], ['population.', 0], ['packed', 0], ['professor.', 0], ['smaller', 0], ['scene.', 0], ['ups', 0], ['downs', 0], ['trait,', 0], ['treated', 0], ['equally', 0], ['fair.', 0], ['fairly', 0], ['easy.', 0], ['classes,', 0], ['required', 0], ['10', 0], ['week.', 0], ['one.', 0], ['unlimited', 0], ['range', 0], ['faculty,', 0], ['libraries,', 0], ['growing.', 0], ['enjoying', 0], ['patience.', 0], ['glad', 0], ['perspective.', 0], ['program,', 0], ['jobs.', 0], ['meaning', 0], ['goes', 0], ['towards', 0], ['rest', 0], ['pockets.', 0], ['tiny.', 0], ['majors.', 0], ['currently', 0], ['l', 0], ['mt', 0], ['admire', 0], [',their', 0], ['hands', 0], ['.', 0], ['understanding.', 0], ['responsibility', 0], ['adults.', 0], ['enforces', 0], ['wear.', 0], ['rule.', 0], ['study', 0], ['programs.', 0], ['optional.', 0], ['wonderful.', 0], ['without', 0], ['getting', 0], ['lost', 0], ['crowd.', 0], ['struggling', 0], ['achieve', 0], ['something,', 0], ['pitches', 0], ['tremendous', 0], ['alone', 0], ['others', 0], ['lots', 0], ['foot', 0], ['door.', 0], ['of.', 0], ['simply', 0], ['right', 0], ['wrong', 0], ['presentable', 0], [',but', 0], ['organized', 0], ['maintains', 0], ['professionalism', 0], ['company', 0], ['guest', 0], ['speakers.', 0], ['daughter.', 0], ['why?', 0], ['atmosphere.', 0], ['\"we/me\",', 0], ['saying', 0], ['reach', 0], ['everything.', 0], ['located', 0], ['south', 0], ['ratio', 0], ['student.', 0], ['sports', 0], ['started', 0], ['colleges,', 0], ['soon', 0], ['their.', 0], ['transfer', 0], ['leader', 0], ['greatly.', 0], ['christian', 0], ['base', 0], ['communicating', 0], ['non-traditional', 0], ['cant', 0], ['departments', 0], ['registrar', 0], ['difficult.', 0], ['trouble', 0], ['answering', 0], ['phones', 0], ['calls', 0], ['returning', 0], ['messages', 0], ['emails.', 0], ['call', 0], ['several', 0], ['question', 0], ['answered.', 0], ['wish', 0], ['system.', 0], ['experience.', 0], ['ton', 0], ['exploring', 0], ['colleague', 0], ['level', 0], ['tutoring', 0], ['assist', 0], ['kids', 0], ['courses.', 0], ['allowing', 0], ['washing', 0], ['services', 0], ['personality', 0], ['two', 0], ['acquire', 0], ['knowledge', 0], ['business.', 0], ['secondly,', 0], ['remaining', 0], ['skill', 0], ['responsible', 0], ['professor', 0], ['ask', 0], ['big.', 0], ['visible', 0], ['improve.', 0], ['open,', 0], ['jump', 0], ['gate', 0], ['intership', 0], ['important', 0], ['keeps', 0], ['alive', 0], ['turn', 0], ['!!', 0], ['smooth', 0], ['good,', 0], ['top', 0], ['stuff.', 0], ['sorority.', 0], ['spring', 0], ['2015', 0], ['founded', 0], ['party,', 0], ['both,', 0], ['interested', 0], ['fall!', 0], ['threatened', 0], ['harmed', 0], ['anyway.', 0], ['brings', 0], ['involve', 0], ['service.', 0], ['events', 0], ['non-greeks', 0], ['lookup', 0], ['bring', 0], ['pushed', 0], ['coyotes.', 0], ['improvements', 0], ['chioce', 0], ['qualified', 0], ['im', 0], ['campaus', 0], ['grounds', 0], ['ive', 0], ['seen', 0], ['representation', 0], ['cooperative.', 0], ['interesting', 0], ['represent', 0], ['ones.', 0], ['step', 0], ['way', 0], ['satisfied', 0], ['choosing', 0], ['four', 0], [\"one's\", 0], [\"professor's\", 0], ['size', 0], ['per', 0], ['classrooms.', 0], ['benefits', 0], ['engaging', 0], ['discussion', 0], ['everyday.', 0], ['semester,', 0], ['last', 0], ['unorganized.', 0], ['bad.', 0], ['dorm', 0], ['rooms', 0], ['bigger', 0], ['pwi', 0], ['somewhere', 0], ['middle', 0], ['hoppe', 0], ['scholarship', 0], ['persue', 0], ['possible.', 0], ['fast', 0], ['laces', 0], ['diners', 0], ['parties', 0], ['unbelievable', 0], ['scenes', 0], ['crowded', 0], ['ridiculous.', 0], ['settings', 0], ['learn.', 0]]\n"
          ],
          "name": "stdout"
        }
      ]
    },
    {
      "cell_type": "code",
      "metadata": {
        "id": "sKcvw5a7M-KP"
      },
      "source": [
        ""
      ],
      "execution_count": 22,
      "outputs": []
    }
  ]
}